{
  "metadata": {
    "kernelspec": {
      "name": "python",
      "display_name": "Python (Pyodide)",
      "language": "python"
    },
    "language_info": {
      "codemirror_mode": {
        "name": "python",
        "version": 3
      },
      "file_extension": ".py",
      "mimetype": "text/x-python",
      "name": "python",
      "nbconvert_exporter": "python",
      "pygments_lexer": "ipython3",
      "version": "3.8"
    }
  },
  "nbformat_minor": 5,
  "nbformat": 4,
  "cells": [
    {
      "id": "77dcdc6b-4ffd-496a-a148-9d77b267c793",
      "cell_type": "markdown",
      "source": "THEORY QUESTIONS",
      "metadata": {}
    },
    {
      "id": "51e35a91-9016-4493-832d-a9889e865aca",
      "cell_type": "markdown",
      "source": "Q1. What are data structures, and why are they important ?\n\nANS- Data structures are specialized formats for organizing, storing, and managing data in a computer system. They provide a way to efficiently collect and manipulate data according to specific needs and use cases.\n\nData structures are important for several key reasons:\n\t1. Efficiency: They allow algorithms to operate with optimal time and space complexity, improving performance.\n\t2. Organization: They provide logical ways to organize and store data that match how the data will be used.\n\t3. Data Management: They enable easier insertion, deletion, searching, and sorting of data.\n\t4. Problem Solving: Different problems require different data organizations, and choosing the right data structure is often crucial to solving computational problems efficiently.\n\t5. Memory Utilization: Well-designed data structures help manage memory resources effectively.\n\t6. Abstraction: They allow programmers to think at a higher level about data manipulation without worrying about implementation details.\n\nExamples of common data structures include arrays, linked lists, stacks, queues, trees, graphs, hash tables, and dictionaries, each with specific advantages for particular applications. ",
      "metadata": {}
    },
    {
      "id": "75c7d315-abdb-4418-b1c9-43e2e2e435df",
      "cell_type": "markdown",
      "source": "Q2.  Explain the difference between mutable and immutable data types with examples.\nANS - Mutable and immutable data types differ in whether they can be modified after creation.\n    \nImmutable data types:\n    * Cannot be changed after they are created\n\t* Any operation that appears to modify them actually creates a new object\n\t* Examples in Python:\n\t\t* Numbers (int, float, complex)\n\t\t* Strings (str)\n\t\t* Tuples\n\t\t* Boolean values\n\nExample with strings:\n\n# Strings are immutable\nname = \"Python\"\nprint(id(name))  # Memory address of original string\nname = name + \" Programming\"  # Creates a new string object\nprint(id(name))  # Different memory address\n\nMutable data types:\n\n\t* Can be modified after creation\n\t* Operations can change their content without creating a new object\n\t* Examples in Python:\n\n\t\t* Lists\n\t\t* Dictionaries\n\t\t* Sets\n\t\t* User-defined classes (by default)\n\nExample with lists:\n\n# Lists are mutable\nnumbers = [1, 2, 3]\nprint(id(numbers))  # Memory address\nnumbers.append(4)   # Modifies the original list\nprint(id(numbers))  # Same memory address\n\nImplications:\n\n\t1. Immutable objects are generally hashable and can be used as dictionary keys\n\t2. Mutable objects can lead to unexpected behavior when passed to functions\n\t3. Immutable objects are thread-safe\n\t4. Mutable objects offer more flexibility for in-place modifications",
      "metadata": {}
    },
    {
      "id": "99e67a11-9b80-4e40-b0b0-7206880dff35",
      "cell_type": "markdown",
      "source": "Q3. What are the main differences between lists and tuples in Python ?\n\nANS- Lists and Tuples in Python : Key Differences\n\n\t1. Mutability:\n\t\t* Lists are mutable (can be modified after creation)\n\t\t* Tuples are immutable (cannot be changed after creation)\n\t2. Syntax:\n\t\t* Lists use square brackets: my_list = [1, 2, 3]\n\t\t* Tuples use parentheses: my_tuple = (1, 2, 3)\n\t3. Methods and Operations:\n\t\t* Lists have more built-in methods (append(), insert(), remove(), sort(), etc.)\n\t\t* Tuples have fewer methods due to their immutability\n\t4. Performance:\n\t\t* Tuples are slightly faster in iteration and accessing elements\n\t\t* Tuples consume less memory\n\t5. Usage:\n\t\t* Lists are preferred for homogeneous collections that may change\n\t\t* Tuples are ideal for heterogeneous data that shouldn't change\n\t6. Hashability:\n\t\t* Tuples can be used as dictionary keys (if they contain only immutable elements)\n\t\t* Lists cannot be used as dictionary keys\n\t7. Unpacking:\n\t\t* Both support unpacking, but tuples are more commonly used for this purpose a, b, c = (1, 2, 3)  # Tuple unpacking\n\t8. Single element declaration:\n\t\t* Single element tuple requires a comma: single_tuple = (1,)\n\t\t* Single element list doesn't need special syntax: single_list = [1]\n\t9. Use cases:\n\t\t* Lists: when you need a collection that will change (e.g., shopping cart)\n\t\t* Tuples: when you need data that shouldn't change (e.g., database records, coordinates)",
      "metadata": {}
    },
    {
      "id": "067ec211-480c-40ee-b3a5-0dad419c374b",
      "cell_type": "markdown",
      "source": "Q4. Describe how dictionaries store data\nANS - How Dictionaries Store Data in Python\n\nDictionaries are powerful built-in data structures that store data using a key-value mapping system. Here's how they work:\n\n\t1. Hash Table Implementation:\n\t\t* Dictionaries in Python are implemented using hash tables\n\t\t* Each key is passed through a hash function that converts it to a numeric hash value\n\t\t* This hash value determines where in memory the key-value pair is stored\n\t2. Key-Value Storage:\n\t\t* Each element consists of a key and its associated value: {key: value}\n\t\t* Keys must be unique and hashable (immutable types like strings, numbers, tuples of immutable objects)\n\t\t* Values can be any Python object (mutable or immutable)\n\t3. Hashing Process:\n# The hash function converts keys to integers\nhash(\"hello\")  # Returns a numeric hash value\n\t4. Hash Collisions:\n\t\t* Different keys can sometimes produce the same hash value (collision)\n\t\t* Python resolves collisions using open addressing with probing\n\t\t* This ensures even with collisions, data is correctly stored and retrieved\n\t5. Time Complexity:\n\t\t* Average case for lookup, insertion, and deletion operations is O(1) (constant time)\n\t\t* Worst case (rare) is O(n) when many collisions occur\n\t6. Memory Storage:\n\t\t* Python dictionaries allocate more memory than needed to maintain performance\n\t\t* Starting with Python 3.6+, dictionaries maintain insertion order\n\t7. Example of dictionary creation and access:\n\nstudent = {\n    \"name\": \"John\",\n    \"age\": 21,\n    \"courses\": [\"Math\", \"Computer Science\"]\n}\n\n# Accessing values\nprint(student[\"name\"])  # John\n\n# Adding new key-value pair\nstudent[\"gpa\"] = 3.8\n\t8. Dictionary Views:\n\t\t* .keys(), .values(), and .items() provide dynamic views of dictionary contents\n\t\t* Changes to the dictionary are reflected in the views\n\t9. Memory Optimizations:\n\t\t* Python 3.6+ optimized dictionary implementation to reduce memory usage\n\t\t* Compact dictionaries were introduced to make data storage more efficient\n\t10. Internal Structure:\n\t\t* Dictionaries consist of an array of \"buckets\"\n\t\t* Each bucket contains references to key-object and value-object pairs\n\t\t* The capacity of this array grows dynamically as needed",
      "metadata": {}
    },
    {
      "id": "221b1298-1e26-487c-bf24-45ad22c2b944",
      "cell_type": "markdown",
      "source": "Q5. Why might you use a set instead of a list in Python?\n\nANS - Why might you use a set instead of a list in Sets are a powerful data structure in Python that offer several advantages over lists in specific scenarios:\n\n\t1. Uniqueness of Elements: Sets automatically eliminate duplicates, making them ideal when you need to store unique values only.\n\n\t2. Membership Testing: Checking if an item exists in a set (using in operator) is significantly faster than in a list - O(1) vs O(n).\n\n\t3. Mathematical Set Operations: Sets support operations like union (|), intersection (&), difference (-), and symmetric difference (^).\n\n\t4. Removing Duplicates: Converting a list to a set is the fastest way to remove duplicate elements.\n\n\t5. Performance for Large Collections: For large collections where uniqueness matters, sets offer better performance for adding, removing, and checking membership.\n\n\t6. Unordered Collection: When the order of elements doesn't matter, sets are more memory-efficient.\n\n\t7. Fast Element Addition/Removal: Adding or removing elements has average O(1) complexity.\n\n\t8. Finding Distinct Elements: When analyzing data to find distinct values or comparing collections.\n\n\nExample:\n\n# Using a set for efficient membership testing\nvalid_usernames = {\"user1\", \"admin\", \"moderator\", \"guest\"}\nif username in valid_usernames:  # O(1) operation\n    authorize_user()\n\n# Finding unique elements\ndata = [1, 2, 3, 2, 1, 4, 5, 4]\nunique_values = set(data)  # {1, 2, 3, 4, 5}\n\n# Set operations\ngroup_a = {\"Alice\", \"Bob\", \"Charlie\"}\ngroup_b = {\"Bob\", \"Dave\", \"Eve\"}\nin_both_groups = group_a & group_b  # {\"Bob\"}\nin_either_group = group_a | group_b  # {\"Alice\", \"Bob\", \"Charlie\", \"Dave\", \"Eve\"}\nonly_in_a = group_a - group_b  # {\"Alice\", \"Charlie\"}",
      "metadata": {}
    },
    {
      "id": "a78cd40d-729d-4a33-a330-b1bac9454765",
      "cell_type": "markdown",
      "source": "Q6. What is a string in Python, and how is it different from a list3\n\nANS- A string in Python is an immutable sequence of Unicode characters used to store and manipulate text data. A list, on the other hand, is a mutable ordered collection that can hold elements of different data types.\n\nKey differences between strings and lists:\n\n\t1. Mutability:\n\n\n\t\t* Strings are immutable (cannot be changed after creation)\n\t\t* Lists are mutable (can be modified after creation)\n\t2. Content:\n\n\n\t\t* Strings can only contain characters\n\t\t* Lists can contain any data type, including mixed types\n\t3. Operations:\n\n\n\t\t* Both support indexing, slicing, and iteration\n\t\t* Lists support item assignment, insertion, append, and extend\n\t\t* Strings have specialized methods for text manipulation (split, join, replace)\n\t4. Creation:\n\n\n\t\t* Strings are created with quotes: \"hello\" or 'hello'\n\t\t* Lists are created with square brackets: [1, 2, 3] or []\n\t5. Memory efficiency:\n\n\n\t\t* Strings are generally more memory-efficient for text\n\t\t* Lists have more overhead per element but offer more flexibility",
      "metadata": {}
    },
    {
      "id": "1eadc9fb-fbab-4c3c-8ba7-216124d7bc35",
      "cell_type": "markdown",
      "source": "Q7. How do tuples ensure data integrity in Python ?\n\nANS- Tuples in Python ensure data integrity through several key characteristics:\n\n\t1. Immutability: Once created, tuples cannot be modified. This prevents accidental changes to data that should remain constant.\n\n\t2. Hashability: Because tuples are immutable, they can be used as dictionary keys and set elements, unlike lists.\n\n\t3. Data Protection: The immutable nature serves as a safeguard for data that should not change throughout program execution.\n\n\t4. Function Return Values: When functions return multiple values as a tuple, the relationship between these values is preserved and cannot be altered.\n\n\t5. Performance Efficiency: Tuples have a smaller memory footprint than lists, making them more efficient for storing fixed collections.\n\n\t6. Named Tuples: The collections.namedtuple feature enhances readability while maintaining immutability benefits.\n\n\nExample:\n\n# Using a tuple to store configuration that should not change\ndatabase_config = ('localhost', 5432, 'mydb', 'readonly')\n\n# Attempting to modify will raise an error\n# database_config[0] = '127.0.0.1'  # TypeError: 'tuple' object does not support item assignment\n\n# Using a named tuple for better readability\nfrom collections import namedtuple\nDBConfig = namedtuple('DBConfig', ['host', 'port', 'name', 'access_type'])\nconfig = DBConfig('localhost', 5432, 'mydb', 'readonly')\nprint(config.host)  # 'localhost'\n\nThis immutability guarantee makes tuples ideal for representing fixed data structures where preserving the integrity of the data is essential.",
      "metadata": {}
    },
    {
      "id": "8d964567-85ab-4feb-993b-9b3d683b9c32",
      "cell_type": "markdown",
      "source": "Q8. What is a hash table, and how does it relate to dictionaries in Python?\n\nANS- A hash table is a data structure that implements an associative array or mapping, which allows you to store key-value pairs for efficient lookups. It uses a hash function to compute an index into an array of buckets or slots, from which the desired value can be found.\n\nPython dictionaries are direct implementations of hash tables. They provide O(1) average time complexity for lookups, insertions, and deletions, making them extremely efficient for data retrieval operations.\n\nKey relationships between hash tables and Python dictionaries:\n\n\t1. Implementation: Python dictionaries are built using hash tables behind the scenes.\n\n\t2. Hash Function: When you add an item to a dictionary, Python hashes the key to determine where to store the value in memory.\n\n\t3. Collision Resolution: Python's dictionary implementation handles hash collisions (when different keys produce the same hash value) using open addressing with probing.\n\n\t4. Requirements for Keys: Dictionary keys must be hashable (immutable objects like strings, numbers, and tuples of hashable objects).\n\n\t5. Performance: The hash table implementation is what gives dictionaries their O(1) time complexity for lookups.\n\n\nExample usage:\n\n# Creating a dictionary (hash table)\nstudent = {\n    'name': 'John',\n    'age': 21,\n    'courses': ['Math', 'Physics']\n}\n\n# O(1) lookup by key\nprint(student['name'])  # Output: John\n\n# Adding a new key-value pair\nstudent['gpa'] = 3.8    # O(1) insertion\n\n# Checking if a key exists\nif 'age' in student:    # O(1) lookup\n    print(\"Age is recorded\")",
      "metadata": {}
    },
    {
      "id": "74a2aaec-36db-40f2-9737-8c0137c2cf22",
      "cell_type": "markdown",
      "source": "Q9. Can lists contain different data types in Python?\n\nANS - Yes, lists in Python can contain different data types. Python lists are heterogeneous data structures, which means they can store elements of multiple data types within the same list. You can mix integers, strings, floats, booleans, and even other lists or complex objects like dictionaries and custom classes in a single list.\n\nFor example:\n\n# A list containing multiple data types\nmixed_list = [42, \"Hello\", 3.14, True, [1, 2, 3], {\"name\": \"Python\"}]\n\n# Accessing elements\nprint(mixed_list[0])  # Integer: 42\nprint(mixed_list[1])  # String: Hello\nprint(mixed_list[4])  # Nested list: [1, 2, 3]\nprint(mixed_list[5])  # Dictionary: {\"name\": \"Python\"}\n\n# You can even mix data types in operations where appropriate\nanother_list = [1, 2, \"three\", 4]\nprint(another_list[0] + another_list[1])  # 3 (integer addition)\nprint(str(another_list[0]) + another_list[2])  # \"1three\" (string concatenation)\n\nThis flexibility makes lists extremely versatile for many programming tasks, though in some cases using more specialized data structures (like NumPy arrays for numerical data) might be more efficient.",
      "metadata": {}
    },
    {
      "id": "455d9b86-6089-4093-a62d-53f595673193",
      "cell_type": "markdown",
      "source": "Q10. Explain why strings are immutable in Python ?\n\nANS - Strings in Python are immutable for several important design and implementation reasons:\n\n\t1. Memory Efficiency: Immutability allows Python to optimize memory usage by storing only one copy of identical strings (string interning). For example, if the string \"hello\" appears multiple times in your code, Python can reference the same memory location for all instances.\n\n\t2. Dictionary Keys: Strings are commonly used as dictionary keys, which require immutable objects. Their hash values remain constant throughout program execution, ensuring reliable lookups.\n\n\t3. Thread Safety: Immutable strings are inherently thread-safe since they cannot be modified after creation. This eliminates the need for locks or synchronization when sharing string data between threads.\n\n\t4. Security: Immutability prevents accidental or malicious modification of string data, which is important for sensitive information like passwords, database queries, or file paths.\n\n\t5. Predictable Behavior: Immutability guarantees that a string's value won't change unexpectedly, making code more reliable and easier to reason about.\n\n\t6. Caching Hash Values: Since strings can't change, Python can compute and cache their hash values once, improving performance for dictionary and set operations.\n\n\nExample demonstrating immutability:\n\n# Attempting to modify a string\ngreeting = \"Hello\"\ntry:\n    greeting[0] = \"h\"  # This will raise a TypeError\nexcept TypeError as e:\n    print(f\"Error: {e}\")  # Output: Error: 'str' object does not support item assignment\n\n# Instead, create a new string\nnew_greeting = \"h\" + greeting[1:]\nprint(new_greeting)  # Output: hello\n\nThis design choice encourages creating new strings rather than modifying existing ones, which aligns with Python's focus on code clarity and reducing bugs related to unexpected state changes.",
      "metadata": {}
    },
    {
      "id": "6f723957-9f7e-4dc4-8f52-39598675dd17",
      "cell_type": "markdown",
      "source": "Q11.  What advantages do dictionaries offer over lists for certain tasks?\n\nANS- Dictionaries offer several significant advantages over lists for certain tasks:\n\n\t1. Key-based Access: Dictionaries allow access to values using meaningful keys rather than numeric indices, making code more readable and intuitive.\n\n# Dictionary example\nstudent = {\"name\": \"Pathak\", \"age\": 20, \"courses\": [\"Math\", \"CS\"]}\nprint(student[\"name\"])  # Output: Pathak\n\n# Equivalent using list (less intuitive)\nstudent_list = [\"Pathak\", 20, [\"Math\", \"CS\"]]\nprint(student_list[0])  # Output: Pathak\n\n\t2. Fast Lookups (O(1) complexity): Dictionaries use hash tables for implementation, providing constant-time lookups regardless of size, while lists require O(n) time for searching.\n\n# Fast dictionary lookup\nlarge_dict = {i: f\"value_{i}\" for i in range(10000)}\nprint(large_dict[8765])  # Instant access\n\n# List requires iteration\nlarge_list = [f\"value_{i}\" for i in range(10000)]\n# Must iterate to find value at position 8765\n\n\t3. Dynamic Key-Value Mapping: Dictionaries excel at mapping relationships between data points, especially when relationships aren't sequential.\n\n# Country code mapping\ncountry_codes = {\"USA\": \"+1\", \"India\": \"+91\", \"UK\": \"+44\"}\nprint(country_codes[\"India\"])  # Output: +91\n\n\t4. No Duplicate Keys: Dictionaries enforce unique keys, preventing accidental duplication of identifiers.\n\n\t5. Flexibility with Keys: While lists only use integers as indices, dictionaries can use any immutable type (strings, numbers, tuples) as keys.\n\n# Using tuples as keys\nlocations = {(40.7128, -74.0060): \"New York\", (51.5074, -0.1278): \"London\"}\n\n\t6. Efficient Membership Testing: Checking if a key exists in a dictionary is much faster than searching a list.\n\nuser_data = {\"user123\": \"active\", \"user456\": \"inactive\"}\n\n# Fast dictionary check\nif \"user123\" in user_data:\n    print(\"User found\")\n\n\t7. Sparse Data Storage: For sparse data where most positions would be empty, dictionaries only store existing values, saving memory.\n\n\t8. JSON Compatibility: Dictionaries map naturally to JSON structures, making them ideal for API interactions and data exchange.\n\n\nDictionaries are particularly well-suited for:\n\n\t* Lookup tables and mappings\n\t* Counting occurrences (frequency counting)\n\t* Caching results\n\t* Representing complex objects\n\t* Configuration settings\n\t* Database records",
      "metadata": {}
    },
    {
      "id": "df4a2f8c-e7b7-41f5-a539-e868fc302039",
      "cell_type": "markdown",
      "source": "Q12. Describe a scenario where using a tuple would be preferable over a list.\n\nANS - Tuples are preferable over lists in several scenarios:\n\n\t1. Representing fixed data that should not change, such as geographic coordinates:\n\n\n\t\t* A point in 3D space: (x, y, z)\n\t\t* GPS coordinates: (latitude, longitude)\n\t2. Dictionary keys - Since dictionary keys must be immutable, tuples can be used as composite keys while lists cannot:\n\n# Valid dictionary with tuple keys\nstudent_grades = {\n    ('Pathak', 'Math'): 95,\n    ('Pathak', 'Science'): 92,\n    ('Kumar', 'Math'): 88\n}\n\n# This would raise TypeError: unhashable type: 'list'\n# student_grades = {['Pathak', 'Math']: 95}\n\n\t3. Data integrity and security - When you want to ensure data cannot be accidentally modified:\n\n# Function that returns multiple values\ndef get_user_info():\n    return ('Pathak', 25, 'pathak@example.com')\n    \n# The returned values cannot be modified accidentally\nuser = get_user_info()\n# This would raise TypeError: 'tuple' object does not support item assignment\n# user[0] = 'Singh'\n\n\t4. Performance optimization - Tuples are slightly faster than lists for iteration and have a smaller memory footprint:\n\n# For large datasets with fixed elements, tuples can be more efficient\nrecord_tuple = tuple(range(10000))  # Immutable collection\nrecord_list = list(range(10000))    # Mutable collection\n\n# Tuple operations are generally faster for read-only operations\n\n\t5. Signaling code intent - Using tuples clearly communicates to other developers that this data should not be modified:\n\n# Function parameters that shouldn't change\ndef calculate_distance(point1, point2):\n    # Using tuples signals these coordinates shouldn't be modified\n    x1, y1 = point1\n    x2, y2 = point2\n    return ((x2 - x1)**2 + (y2 - y1)**2)**0.5\n\ndistance = calculate_distance((0, 0), (3, 4))  # 5.0",
      "metadata": {}
    },
    {
      "id": "0efcc2c6-6a7e-41e8-9eb6-ef5ccf782e5f",
      "cell_type": "markdown",
      "source": "Q13 How do sets handle duplicate values in Python ?\n\nANS- Sets in Python automatically eliminate duplicate values. When you create a set or add elements to an existing set, any duplicates are silently discarded, keeping only one instance of each unique value. This property makes sets ideal for removing duplicates from collections and for membership testing.\n\nExample:\n\n# Creating a set with duplicate values\nnumbers = {1, 2, 3, 2, 4, 3, 5, 1}\nprint(numbers)  # Output: {1, 2, 3, 4, 5}\n\n# Adding a duplicate to an existing set\nnumbers.add(2)  \nprint(numbers)  # Output: {1, 2, 3, 4, 5} - No change\n\n# Converting a list with duplicates to a set removes duplicates\nduplicate_list = [10, 20, 30, 20, 40, 10]\nunique_values = set(duplicate_list)\nprint(unique_values)  # Output: {10, 20, 30, 40}\n\n# This property makes sets useful for finding unique elements\ndef get_unique_elements(collection):\n    return set(collection)\n\nnames = [\"Alice\", \"Bob\", \"Charlie\", \"Alice\", \"David\", \"Bob\"]\nunique_names = get_unique_elements(names)\nprint(unique_names)  # Output: {'Alice', 'Bob', 'Charlie', 'David'}\n\n1This behavior is by design and is one of the main reasons to use sets in Python. Sets are implemented using hash tables, which provide efficient O(1) lookups and ensure uniqueness.",
      "metadata": {}
    },
    {
      "id": "269b0bdd-88e2-444e-b4d2-011705a53b7f",
      "cell_type": "markdown",
      "source": "Q14. How does the “in” keyword work differently for lists and dictionaries?\n\nANS- How the \"in\" keyword works differently for lists and dictionaries\nThe in keyword behaves differently for lists and dictionaries in Python:\n\nFor Lists:\n\t* The in operator checks if a value exists as an element in the list\n\t* It searches sequentially through each element (linear search)\n\t* Time complexity is O(n) - performance decreases with larger lists\n\t* It compares the value to each element in the list using equality comparison\n\nmy_list = [1, 2, 3, 4, 5]\nprint(3 in my_list)  # True - checks if 3 exists as a value\nprint(6 in my_list)  # False - 6 is not in the list\n\nFor Dictionaries:\n\t* The in operator checks if a value exists as a key in the dictionary\n\t* It only searches among the dictionary keys, not among the values\n\t* Time complexity is O(1) - constant time regardless of dictionary size\n\t* Uses hash table lookup which is much faster for large collections\n\nmy_dict = {'a': 1, 'b': 2, 'c': 3}\nprint('a' in my_dict)  # True - 'a' is a key\nprint(1 in my_dict)    # False - 1 is a value, not a key\nprint('d' in my_dict)  # False - 'd' is not a key\n\n# To check if a value exists in dictionary values:\nprint(1 in my_dict.values())  # True\n\nThis difference in behavior makes dictionaries much more efficient for membership testing when working with large datasets, as long as you're looking for keys.",
      "metadata": {}
    },
    {
      "id": "2a297600-8e11-47d5-b48a-3c47d1d9b702",
      "cell_type": "markdown",
      "source": "Q15. Can you modify the elements of a tuple? Explain why or why not?\n\nANS - No, you cannot modify the elements of a tuple in Python. This is because tuples are immutable data structures, meaning once they are created, their contents cannot be changed.\n\nUnlike lists which are mutable, tuples are designed to store collections of data that should not change throughout the program execution. This immutability provides several advantages:\n\n\t1. Tuples can be used as dictionary keys (while lists cannot)\n\t2. Tuples can be elements of sets (while lists cannot)\n\t3. Tuples are typically more memory efficient than lists\n\t4. Immutable objects are generally safer in multithreaded applications\n\t5. The immutability guarantees that data won't be accidentally modified\n\nYou can verify this behavior with code:\n\nmy_tuple = (1, 2, 3, 4, 5)\n# Trying to modify will raise an error\n# my_tuple[0] = 10  # This would raise TypeError: 'tuple' object does not support item assignment\n\n# While you can't modify elements, you can create a new tuple based on the old one\nnew_tuple = (10,) + my_tuple[1:]\nprint(new_tuple)  # Output: (10, 2, 3, 4, 5)\n\nIf you need a mutable sequence, you should use a list instead.",
      "metadata": {}
    },
    {
      "id": "77539f88-5976-41ff-8d2e-d025a61f4ed3",
      "cell_type": "markdown",
      "source": "Q16. What is a nested dictionary, and give an example of its use case?\n\nANS - A nested dictionary is a dictionary where one or more values are dictionaries themselves. This creates a hierarchical data structure where data can be organized in multiple levels.\n\nA nested dictionary in Python can be defined as:\n\nnested_dict = {\n    'outer_key1': {\n        'inner_key1': value1,\n        'inner_key2': value2\n    },\n    'outer_key2': {\n        'inner_key3': value3,\n        'inner_key4': value4\n    }\n}\n\nExample use case: Storing information about students across different schools and classes\n\nschools = {\n    'Lincoln High': {\n        'Computer Science': {\n            'CS101': ['John Smith', 'Emma Johnson', 'Michael Brown'],\n            'CS202': ['Sarah Lee', 'David Miller']\n        },\n        'Mathematics': {\n            'MATH101': ['Jessica Wong', 'Ryan Chen'],\n            'MATH202': ['Tyler Garcia', 'Olivia Davis']\n        }\n    },\n    'Washington Academy': {\n        'Physics': {\n            'PHYS101': ['Hannah Kim', 'Carlos Rodriguez'],\n            'PHYS202': ['Aisha Patel', 'James Wilson']\n        },\n        'Biology': {\n            'BIO101': ['Maria Gonzalez', 'Thomas Anderson'],\n            'BIO202': ['Zoe Campbell', 'Noah Parker']\n        }\n    }\n}\n\n# Accessing specific information\nprint(schools['Lincoln High']['Computer Science']['CS101'])  # List of students in CS101 at Lincoln High\nprint(schools['Washington Academy']['Biology']['BIO202'][0])  # First student in BIO202 at Washington Academy\n\nThis structure is particularly useful when:\n\n\t1. Organizing hierarchical data (like geographic information, organizational structures)\n\t2. Representing complex relationships between entities\n\t3. Creating configuration systems with multiple levels of settings\n\t4. Storing and accessing multi-dimensional data that has meaningful labels?",
      "metadata": {}
    },
    {
      "id": "08629553-e04a-4aa3-8d20-8e6e82f3d014",
      "cell_type": "markdown",
      "source": "Q17 Describe the time complexity of accessing elements in a dictionary.\n\nANS - The time complexity of accessing elements in a Python dictionary is O(1) on average (constant time). This means that regardless of the dictionary's size, retrieving a value using its key takes approximately the same amount of time.\n\nThis efficient performance is possible because dictionaries in Python are implemented using hash tables. When you access a dictionary element (dict[key]), Python:\n\n\t1. Computes the hash value of the key\n\t2. Uses this hash to determine the location of the key-value pair in memory\n\t3. Retrieves the value directly from that location\n\nIn the worst-case scenario (when many hash collisions occur), the time complexity could degrade to O(n), but Python's implementation includes optimizations to make this extremely rare in practice.\n\nThis O(1) time complexity for lookups is one of the main advantages of dictionaries over other data structures like lists (which have O(n) lookup time when searching by value).",
      "metadata": {}
    },
    {
      "id": "fa829059-f1d3-483b-a874-36eb7e1c9368",
      "cell_type": "markdown",
      "source": "Q18. In what situations are lists preferred over dictionaries?\n\nANS- Lists are preferred over dictionaries in the following situations:\n\n\t1. When order matters: Lists maintain insertion order, making them ideal when sequence is important (e.g., steps in a process, ranking of items).\n\n\t2. When you need to store duplicate elements: Lists allow duplicates, while dictionary keys must be unique.\n\n\t3. When accessing elements sequentially: Lists are optimized for iteration and sequential access with O(1) time complexity for indexed access.\n\n\t4. When memory efficiency is critical: Lists typically consume less memory than dictionaries for the same number of elements since dictionaries store both keys and values plus hash table overhead.\n\n\t5. When you don't have natural key-value relationships: If data doesn't naturally map to key-value pairs, lists are more appropriate.\n\n\t6. When you need to frequently perform operations like sorting, reversing, or appending: Lists have built-in methods optimized for these sequential operations.\n\n\t7. When you need to access elements by numeric index rather than arbitrary keys.\n\n\t8. When you want simpler syntax for common operations (appending, extending, slicing).\n\n\nExample comparing usage:\n\n# List usage - when order matters\nsteps = [\"Preheat oven\", \"Mix ingredients\", \"Pour batter\", \"Bake\"]\n\n# Dictionary would be less natural here\n# steps_dict = {0: \"Preheat oven\", 1: \"Mix ingredients\", 2: \"Pour batter\", 3: \"Bake\"}\n\n# List usage - when storing homogeneous data without natural keys\ntemperatures = [98.6, 99.2, 97.9, 98.4, 98.6]  # duplicate values allowed\n\n# List usage - when operations like sorting are needed\ntemperatures.sort()  # Simple in-place sorting",
      "metadata": {}
    },
    {
      "id": "7d066722-38cb-4270-a2d4-412814e6a14c",
      "cell_type": "markdown",
      "source": "Q19. Why are dictionaries considered unordered, and how does that affect data retrieval?\n\nANS- Dictionaries in Python were historically considered unordered because their internal implementation using hash tables didn't guarantee that items would maintain their insertion order. The hash function maps keys to locations in memory based on the key's hash value, not based on when they were inserted.\n\nHowever, it's important to note that since Python 3.7, dictionaries now preserve insertion order as an implementation detail, and this became an official language feature in Python 3.8. Despite this change, you should still understand the traditional behavior and implications.\n\nRegarding data retrieval:\n\n\t1. Fast lookups: Despite being traditionally \"unordered,\" dictionaries offer O(1) time complexity for retrieving items by key, regardless of order.\n\t2. No numerical indexing: Unlike lists, you can't access dictionary elements by position (like dict[0]). You must use the exact key.\n\t3. Iteration considerations: When iterating through a traditional unordered dictionary, the order wasn't predictable or reliable.\n\t4. Modern Python behavior: In current Python versions, while you can rely on insertion order being preserved when iterating, you still retrieve values using keys, not positions.\n\nThis is why when order is critical to your application's functionality, and you need indexed access, lists are often preferred despite Python's dictionaries now maintaining insertion order.",
      "metadata": {}
    },
    {
      "id": "40787976-d7d3-4434-b685-5a714c5ed563",
      "cell_type": "markdown",
      "source": "Q20 Explain the difference between a list and a dictionary in terms of data retrieval.\n\nANS- Lists and dictionaries in Python differ significantly in how data is retrieved:\n\nLists:\n\n\t* Use integer indices for data retrieval (e.g., my_list[0], my_list[1])\n\t* Access by index is O(1) time complexity (constant time)\n\t* Searching for a value without knowing its index requires iterating through the list, which is O(n) time complexity\n\t* Maintain insertion order and allow duplicate values\n\t* Best when sequential access is needed or when position matters\n\nDictionaries:\n\n\t* Use keys (of various data types) for data retrieval (e.g., my_dict['name'])\n\t* Lookup by key is O(1) average time complexity due to hash table implementation\n\t* No direct numerical indexing - must use the exact key\n\t* Since Python 3.7, dictionaries preserve insertion order\n\t* Best when you need to associate values with specific keys for fast retrieval\n\nExample:\n\n# List retrieval - by index\nfruits = [\"apple\", \"banana\", \"cherry\"]\nsecond_fruit = fruits[1]  # returns \"banana\"\n\n# Dictionary retrieval - by key\nfruit_colors = {\"apple\": \"red\", \"banana\": \"yellow\", \"cherry\": \"red\"}\nbanana_color = fruit_colors[\"banana\"]  # returns \"yellow\"\n\nChoose a list when you need ordered data accessed by position, and a dictionary when you need to quickly retrieve values based on meaningful keys.",
      "metadata": {}
    },
    {
      "id": "a4acfb0c-5448-483c-b520-440095eef43b",
      "cell_type": "raw",
      "source": "PRACTICAL QUESTIONS ",
      "metadata": {}
    },
    {
      "id": "438ce559-6e18-48b0-b254-d5b162749976",
      "cell_type": "markdown",
      "source": "Q1. Write a code to create a string with your name and print it.\n\nANS- ",
      "metadata": {}
    },
    {
      "id": "13cc618c-f3bb-44d5-8311-31beafce67e3",
      "cell_type": "code",
      "source": "# Creating a string with your name\nname = \"Pathak\"\n\n# Printing the string\nprint(name)",
      "metadata": {
        "trusted": true
      },
      "outputs": [],
      "execution_count": null
    },
    {
      "id": "55694e88-97f3-419f-a97e-4103fcde7c20",
      "cell_type": "markdown",
      "source": "Q2 Write a code to find the length of the string \"Hello World\".\n\nANS-",
      "metadata": {}
    },
    {
      "id": "bbdebb32-737f-4e17-bc42-f69f076c6df9",
      "cell_type": "code",
      "source": "# Finding the length of the string \"Hello World\"\nstring = \"Hello World\"\nlength = len(string)\n\n# Printing the length\nprint(\"The length of the string 'Hello World' is:\", length)",
      "metadata": {
        "trusted": true
      },
      "outputs": [
        {
          "name": "stdout",
          "output_type": "stream",
          "text": "The length of the string 'Hello World' is: 11\n"
        }
      ],
      "execution_count": 7
    },
    {
      "id": "a4d64f2c-a0a6-417b-b92f-cf8a175644c5",
      "cell_type": "markdown",
      "source": "Q3. Write a code to slice the first 3 characters from the string \"Python Programming\"\n\nANS- ",
      "metadata": {}
    },
    {
      "id": "868a4d6b-2f8a-4a23-b2cb-cfd066a75da4",
      "cell_type": "code",
      "source": "# Slicing the first 3 characters from the string \"Python Programming\"\nstring = \"Python Programming\"\nsliced_string = string[:3]\n\n# Printing the sliced string\nprint(\"The first 3 characters are:\", sliced_string)",
      "metadata": {
        "trusted": true
      },
      "outputs": [
        {
          "name": "stdout",
          "output_type": "stream",
          "text": "The first 3 characters are: Pyt\n"
        }
      ],
      "execution_count": 8
    },
    {
      "id": "99dd363c-694e-4d38-bf33-5682181251e9",
      "cell_type": "markdown",
      "source": "Q4. Write a code to convert the string \"hello\" to uppercase\n\nANS- ",
      "metadata": {}
    },
    {
      "id": "3026d196-bc56-405d-b27a-37da1c1ad63e",
      "cell_type": "code",
      "source": "# Converting the string \"hello\" to uppercase\n\nstring = \"hello\"\n\nuppercase_string = string.upper()\n\n# Printing the uppercase string\n\nprint(\"The uppercase version of 'hello' is:\", uppercase_string)",
      "metadata": {
        "trusted": true
      },
      "outputs": [
        {
          "name": "stdout",
          "output_type": "stream",
          "text": "The uppercase version of 'hello' is: HELLO\n"
        }
      ],
      "execution_count": 9
    },
    {
      "id": "886a4298-66ba-4b87-a28f-72d637d67902",
      "cell_type": "markdown",
      "source": "Q5. Write a code to replace the word \"apple\" with \"orange\" in the string \"I like apple\".\n\nANS -",
      "metadata": {}
    },
    {
      "id": "f15943e2-3644-4fdd-a245-6e641837d80d",
      "cell_type": "code",
      "source": "# Replacing the word \"apple\" with \"orange\" in the string \"I like apple\"\nstring = \"I like apple\"\nmodified_string = string.replace(\"apple\", \"orange\")\n\n# Printing the modified string\nprint(\"Modified string:\", modified_string)",
      "metadata": {
        "trusted": true
      },
      "outputs": [
        {
          "name": "stdout",
          "output_type": "stream",
          "text": "Modified string: I like orange\n"
        }
      ],
      "execution_count": 10
    },
    {
      "id": "405ccd17-ad42-4221-a0a2-3a9188092a77",
      "cell_type": "markdown",
      "source": "Q6. Write a code to create a list with numbers 1 to 5 and print it\n\nANS- ",
      "metadata": {}
    },
    {
      "id": "a398e38e-c004-4f3a-be80-b94630d9f73c",
      "cell_type": "code",
      "source": "# Creating a list with numbers 1 to 5\nnumbers = [1, 2, 3, 4, 5]\n\n# Printing the list\nprint(\"List of numbers:\", numbers)",
      "metadata": {
        "trusted": true
      },
      "outputs": [
        {
          "name": "stdout",
          "output_type": "stream",
          "text": "List of numbers: [1, 2, 3, 4, 5]\n"
        }
      ],
      "execution_count": 12
    },
    {
      "id": "fe02d393-046f-4893-a34e-bcfee74e5b3f",
      "cell_type": "markdown",
      "source": "Q7. Write a code to append the number 10 to the list [1, 2, 3, 4]\n\nANS - ",
      "metadata": {}
    },
    {
      "id": "a5c123b0-ba09-4744-8c70-3b6e19e9c801",
      "cell_type": "code",
      "source": "# Creating the initial list\nnumbers = [1, 2, 3, 4]\n\n# Appending the number 10 to the list\nnumbers.append(10)\n\n# Printing the updated list\nprint(\"Updated list:\", numbers)",
      "metadata": {
        "trusted": true
      },
      "outputs": [
        {
          "name": "stdout",
          "output_type": "stream",
          "text": "Updated list: [1, 2, 3, 4, 10]\n"
        }
      ],
      "execution_count": 13
    },
    {
      "id": "0177f0e4-ac79-4b67-aa07-aa16043611c3",
      "cell_type": "markdown",
      "source": "Q8. Write a code to remove the number 3 from the list [1, 2, 3, 4, 5]\n\nANS- ",
      "metadata": {}
    },
    {
      "id": "85d28223-096a-4ab3-8a19-62c9df3934fe",
      "cell_type": "code",
      "source": "# Creating the initial list\nnumbers = [1, 2, 3, 4, 5]\n\n# Removing the number 3 from the list\nnumbers.remove(3)\n\n# Printing the updated list\nprint(\"Updated list:\", numbers)",
      "metadata": {
        "trusted": true
      },
      "outputs": [
        {
          "name": "stdout",
          "output_type": "stream",
          "text": "Updated list: [1, 2, 4, 5]\n"
        }
      ],
      "execution_count": 14
    },
    {
      "id": "5deb4c6c-1f33-4ef9-91a7-5f49dfbb5915",
      "cell_type": "markdown",
      "source": "Q9. Write a code to access the second element in the list ['a', 'b', 'c', 'd']\n\nANS - ",
      "metadata": {}
    },
    {
      "id": "6f850070-c255-4186-b5da-a2a604a9cb85",
      "cell_type": "code",
      "source": "# Creating the list\nletters = ['a', 'b', 'c', 'd']\n\n# Accessing the second element\nsecond_element = letters[1]\n\n# Printing the second element\nprint(\"Second element:\", second_element)# Creating the list\nletters = ['a', 'b', 'c', 'd']\n\n# Accessing the second element\nsecond_element = letters[1]\n\n# Printing the second element\nprint(\"Second element:\", second_element)",
      "metadata": {
        "trusted": true
      },
      "outputs": [
        {
          "name": "stdout",
          "output_type": "stream",
          "text": "Second element: b\nSecond element: b\n"
        }
      ],
      "execution_count": 15
    },
    {
      "id": "a937467f-b6fa-4f08-8cce-cb6f043c5aa6",
      "cell_type": "markdown",
      "source": "Q10. Write a code to reverse the list [10, 20, 30, 40, 50].\n\nANS- ",
      "metadata": {}
    },
    {
      "id": "14679efd-8ffb-4989-9cef-51eecfdeb0f1",
      "cell_type": "code",
      "source": "# Creating the list\nnumbers = [10, 20, 30, 40, 50]\n\n# Reversing the list\nreversed_numbers = numbers[::-1]\n\n# Printing the reversed list\nprint(\"Reversed list:\", reversed_numbers)# Defining the tuple\nnumbers = (10, 20, 5, 15)\n\n# Finding the minimum number\nminimum_number = min(numbers)\n\n# Printing the result\nprint(\"Minimum number:\", minimum_number)",
      "metadata": {
        "trusted": true
      },
      "outputs": [
        {
          "name": "stdout",
          "output_type": "stream",
          "text": "Reversed list: [50, 40, 30, 20, 10]\n"
        }
      ],
      "execution_count": 16
    },
    {
      "id": "7efd75ce-89f1-4e23-9acf-700f22ec034e",
      "cell_type": "markdown",
      "source": "Q11. Write a code to create a tuple with the elements 100, 200, 300 and print it.\n\nANS -",
      "metadata": {}
    },
    {
      "id": "a5acbd66-e407-4485-b606-b15ad83bdce9",
      "cell_type": "code",
      "source": "# Creating the tuple\nnumbers_tuple = (100, 200, 300)\n\n# Printing the tuple\nprint(\"Tuple:\", numbers_tuple)",
      "metadata": {
        "trusted": true
      },
      "outputs": [
        {
          "name": "stdout",
          "output_type": "stream",
          "text": "Tuple: (100, 200, 300)\n"
        }
      ],
      "execution_count": 17
    },
    {
      "id": "3e48f6d0-2aca-4c30-9d30-fa641e935393",
      "cell_type": "markdown",
      "source": "Q12. Write a code to access the second-to-last element of the tuple ('red', 'green', 'blue', 'yellow').\n\nANS -",
      "metadata": {}
    },
    {
      "id": "eab31636-54e7-4c47-95b6-63bd25133d92",
      "cell_type": "code",
      "source": "# Defining the tuple\ncolors = ('red', 'green', 'blue', 'yellow')\n\n# Accessing the second-to-last element\nsecond_to_last = colors[-2]\n\n# Printing the result\nprint(\"Second-to-last element:\", second_to_last)",
      "metadata": {
        "trusted": true
      },
      "outputs": [
        {
          "name": "stdout",
          "output_type": "stream",
          "text": "Second-to-last element: blue\n"
        }
      ],
      "execution_count": 18
    },
    {
      "id": "2225abe5-c90b-4419-8322-5962612a9ed5",
      "cell_type": "markdown",
      "source": "Q13. Write a code to find the minimum number in the tuple (10, 20, 5, 15).\n\nANS -",
      "metadata": {}
    },
    {
      "id": "ff4f8d6f-ee74-44ca-91bc-aff912833c0d",
      "cell_type": "code",
      "source": "# Defining the tuple\nnumbers = (10, 20, 5, 15)\n\n# Finding the minimum number\nminimum_number = min(numbers)\n\n# Printing the result\nprint(\"Minimum number:\", minimum_number)",
      "metadata": {
        "trusted": true
      },
      "outputs": [
        {
          "name": "stdout",
          "output_type": "stream",
          "text": "Minimum number: 5\n"
        }
      ],
      "execution_count": 19
    },
    {
      "id": "8b8f20fd-91c9-4f20-9d04-e57ebb3c12bc",
      "cell_type": "markdown",
      "source": "Q14. Write a code to find the index of the element \"cat\" in the tuple ('dog', 'cat', 'rabbit').\n\nANS- ",
      "metadata": {}
    },
    {
      "id": "ca7b66ae-27a0-4847-b410-a94e5536e2f5",
      "cell_type": "code",
      "source": "# Defining the tuple\nanimals = ('dog', 'cat', 'rabbit')\n\n# Finding the index of the element \"cat\"\ncat_index = animals.index('cat')\n\n# Printing the result\nprint(\"Index of 'cat':\", cat_index)",
      "metadata": {
        "trusted": true
      },
      "outputs": [
        {
          "name": "stdout",
          "output_type": "stream",
          "text": "Index of 'cat': 1\n"
        }
      ],
      "execution_count": 20
    },
    {
      "id": "b12d717b-9baa-4871-b682-27de48bc2469",
      "cell_type": "markdown",
      "source": "Q15. Write a code to create a tuple containing three different fruits and check if \"kiwi\" is in it.\n\nANS-",
      "metadata": {}
    },
    {
      "id": "a512df1e-d529-4341-a633-24712a0b4479",
      "cell_type": "code",
      "source": "# Creating a tuple with three different fruits\nfruits = (\"apple\", \"banana\", \"cherry\")\n\n# Checking if \"kiwi\" is in the tuple\nis_kiwi_present = \"kiwi\" in fruits\n\n# Printing the result\nprint(\"Is 'kiwi' in the tuple?:\", is_kiwi_present)",
      "metadata": {
        "trusted": true
      },
      "outputs": [
        {
          "name": "stdout",
          "output_type": "stream",
          "text": "Is 'kiwi' in the tuple?: False\n"
        }
      ],
      "execution_count": 21
    },
    {
      "id": "a5915a80-1713-449a-960a-d1f6c95d59f7",
      "cell_type": "markdown",
      "source": "Q16. Write a code to create a set with the elements 'a', 'b', 'c' and print it.\n\nANS -",
      "metadata": {}
    },
    {
      "id": "59cf034e-11ae-4c0d-8bf6-b7a4e11ea028",
      "cell_type": "code",
      "source": "# Creating a set with the elements 'a', 'b', 'c'\nmy_set = {'a', 'b', 'c'}\n\n# Printing the set\nprint(\"The set is:\", my_set)",
      "metadata": {
        "trusted": true
      },
      "outputs": [
        {
          "name": "stdout",
          "output_type": "stream",
          "text": "The set is: {'a', 'c', 'b'}\n"
        }
      ],
      "execution_count": 22
    },
    {
      "id": "1b81ffea-0653-4d3e-a01b-c25f2071ed64",
      "cell_type": "markdown",
      "source": "Q17. Write a code to clear all elements from the set {1, 2, 3, 4, 5}.\n\nANS - ",
      "metadata": {}
    },
    {
      "id": "14c05e11-33b4-483c-9376-71c0f9765c88",
      "cell_type": "code",
      "source": "# Creating a set with elements {1, 2, 3, 4, 5}\nmy_set = {1, 2, 3, 4, 5}\n\n# Clearing all elements from the set\nmy_set.clear()\n\n# Printing the set after clearing\nprint(\"The set after clearing:\", my_set)",
      "metadata": {
        "trusted": true
      },
      "outputs": [
        {
          "name": "stdout",
          "output_type": "stream",
          "text": "The set after clearing: set()\n"
        }
      ],
      "execution_count": 23
    },
    {
      "id": "9d28a79a-759e-4939-af2b-d912eff03d1c",
      "cell_type": "markdown",
      "source": "Q18. Write a code to remove the element 4 from the set {1, 2, 3, 4}.\n\nANS- ",
      "metadata": {}
    },
    {
      "id": "c63d1e48-186d-432b-b461-723578cf4fa2",
      "cell_type": "code",
      "source": "# Creating a set with elements {1, 2, 3, 4}\nmy_set = {1, 2, 3, 4}\n\n# Removing the element 4 from the set\nmy_set.remove(4)\n\n# Printing the set after removing the element\nprint(\"The set after removing 4:\", my_set)",
      "metadata": {
        "trusted": true
      },
      "outputs": [
        {
          "name": "stdout",
          "output_type": "stream",
          "text": "The set after removing 4: {1, 2, 3}\n"
        }
      ],
      "execution_count": 24
    },
    {
      "id": "16ea4534-0935-4b8d-ba95-097212714289",
      "cell_type": "markdown",
      "source": "Q19. Write a code to find the union of two sets {1, 2, 3} and {3, 4, 5}.\n\nANS- ",
      "metadata": {}
    },
    {
      "id": "cf16c9d1-df62-4444-b83e-4e6e5f162dea",
      "cell_type": "code",
      "source": "# Creating two sets\nset1 = {1, 2, 3}\nset2 = {3, 4, 5}\n\n# Finding the union of the two sets\nunion_set = set1.union(set2)\n\n# Printing the union of the sets\nprint(\"The union of the sets is:\", union_set)",
      "metadata": {
        "trusted": true
      },
      "outputs": [
        {
          "name": "stdout",
          "output_type": "stream",
          "text": "The union of the sets is: {1, 2, 3, 4, 5}\n"
        }
      ],
      "execution_count": 25
    },
    {
      "id": "15063d94-2adb-40c3-8e0f-0b12ad2da084",
      "cell_type": "markdown",
      "source": "Q20. Write a code to find the intersection of two sets {1, 2, 3} and {2, 3, 4}.\n\nANS- ",
      "metadata": {}
    },
    {
      "id": "8775f3e4-cfd1-4c63-9411-df1c3b5f3007",
      "cell_type": "code",
      "source": "# Creating two sets\nset1 = {1, 2, 3}\nset2 = {2, 3, 4}\n\n# Finding the intersection of the two sets\nintersection_set = set1.intersection(set2)\n\n# Printing the intersection of the sets\nprint(\"The intersection of the sets is:\", intersection_set)",
      "metadata": {
        "trusted": true
      },
      "outputs": [
        {
          "name": "stdout",
          "output_type": "stream",
          "text": "The intersection of the sets is: {2, 3}\n"
        }
      ],
      "execution_count": 26
    },
    {
      "id": "7ca3992f-2c37-49d4-813e-24f40406f44f",
      "cell_type": "markdown",
      "source": "Q21. Write a code to create a dictionary with the keys \"name\", \"age\", and \"city\", and print it\n\nANS- ",
      "metadata": {}
    },
    {
      "id": "d0ad278c-a9e2-4d90-85c6-dc28246be4c8",
      "cell_type": "code",
      "source": "# Creating a dictionary with keys \"name\", \"age\", and \"city\"\nperson_info = {\n    \"name\": \"John\",\n    \"age\": 30,\n    \"city\": \"New York\"\n}\n\n# Printing the dictionary\nprint(\"The dictionary is:\", person_info)",
      "metadata": {
        "trusted": true
      },
      "outputs": [
        {
          "name": "stdout",
          "output_type": "stream",
          "text": "The dictionary is: {'name': 'John', 'age': 30, 'city': 'New York'}\n"
        }
      ],
      "execution_count": 27
    },
    {
      "id": "ee42f57c-1e0c-4bcc-9b6e-aeb54aacf538",
      "cell_type": "markdown",
      "source": "Q22. Write a code to add a new key-value pair \"country\": \"USA\" to the dictionary {'name': 'John', 'age': 25}\n\nANS-",
      "metadata": {}
    },
    {
      "id": "9f271dc8-953e-4d81-93e7-6224d3a86112",
      "cell_type": "code",
      "source": "# Original dictionary\nperson_info = {'name': 'John', 'age': 25}\n\n# Adding a new key-value pair\nperson_info['country'] = 'USA'\n\n# Printing the updated dictionary\nprint(\"The updated dictionary is:\", person_info)",
      "metadata": {
        "trusted": true
      },
      "outputs": [
        {
          "name": "stdout",
          "output_type": "stream",
          "text": "The updated dictionary is: {'name': 'John', 'age': 25, 'country': 'USA'}\n"
        }
      ],
      "execution_count": 28
    },
    {
      "id": "272c310e-8f44-4f63-824b-17a144ade305",
      "cell_type": "markdown",
      "source": "Q23. Write a code to access the value associated with the key \"name\" in the dictionary {'name': 'Alice', 'age': 30}\n\nANS-",
      "metadata": {}
    },
    {
      "id": "47ad78a9-3f4d-4d79-83c9-5e57d18d05ef",
      "cell_type": "code",
      "source": "# Defining the dictionary\nperson_info = {'name': 'Alice', 'age': 30}\n\n# Accessing the value associated with the key \"name\"\nname_value = person_info['name']\n\n# Printing the value\nprint(\"The value associated with the key 'name' is:\", name_value)",
      "metadata": {
        "trusted": true
      },
      "outputs": [
        {
          "name": "stdout",
          "output_type": "stream",
          "text": "The value associated with the key 'name' is: Alice\n"
        }
      ],
      "execution_count": 29
    },
    {
      "id": "63f476bf-3098-4bdd-b2c6-07b3434eb925",
      "cell_type": "markdown",
      "source": "Q24. Write a code to remove the key \"age\" from the dictionary {'name': 'Bob', 'age': 22, 'city': 'New York'}.\n\nANS-",
      "metadata": {}
    },
    {
      "id": "452fd4c8-aaf0-4e3f-97ca-476cac42dda4",
      "cell_type": "code",
      "source": "# Defining the dictionary\nperson_info = {'name': 'Bob', 'age': 22, 'city': 'New York'}\n\n# Removing the key \"age\"\nperson_info.pop('age')\n\n# Printing the updated dictionary\nprint(\"The updated dictionary is:\", person_info)",
      "metadata": {
        "trusted": true
      },
      "outputs": [
        {
          "name": "stdout",
          "output_type": "stream",
          "text": "The updated dictionary is: {'name': 'Bob', 'city': 'New York'}\n"
        }
      ],
      "execution_count": 30
    },
    {
      "id": "39b13bd8-5077-47a6-9e01-d50b21151779",
      "cell_type": "markdown",
      "source": "Q25. Write a code to check if the key \"city\" exists in the dictionary {'name': 'Alice', 'city': 'Paris'}.\n\nANS-",
      "metadata": {}
    },
    {
      "id": "d12bc4f0-956b-458f-9655-39017803e902",
      "cell_type": "code",
      "source": "# Defining the dictionary\nperson_info = {'name': 'Alice', 'city': 'Paris'}\n\n# Checking if the key \"city\" exists\nif 'city' in person_info:\n    print(\"The key 'city' exists in the dictionary.\")\nelse:\n    print(\"The key 'city' does not exist in the dictionary.\")",
      "metadata": {
        "trusted": true
      },
      "outputs": [
        {
          "name": "stdout",
          "output_type": "stream",
          "text": "The key 'city' exists in the dictionary.\n"
        }
      ],
      "execution_count": 31
    },
    {
      "id": "71924ae5-7e1f-4e34-84bd-efbeb349d857",
      "cell_type": "markdown",
      "source": "Q26. Write a code to create a list, a tuple, and a dictionary, and print them all.\n\nANS-",
      "metadata": {}
    },
    {
      "id": "047b08c2-be3f-4927-a060-cf0992ac4325",
      "cell_type": "code",
      "source": "# Creating a list\nmy_list = [1, 2, 3, 4, 5]\n\n# Creating a tuple\nmy_tuple = ('apple', 'banana', 'cherry')\n\n# Creating a dictionary\nmy_dict = {'name': 'Alice', 'age': 25, 'city': 'Paris'}\n\n# Printing the list, tuple, and dictionary\nprint(\"List:\", my_list)\nprint(\"Tuple:\", my_tuple)\nprint(\"Dictionary:\", my_dict)",
      "metadata": {
        "trusted": true
      },
      "outputs": [],
      "execution_count": null
    },
    {
      "id": "0728c2e0-1ba2-42f6-9888-b614be38442b",
      "cell_type": "markdown",
      "source": "Q27.  Write a code to create a list of 5 random numbers between 1 and 100, sort it in ascending order, and print the\nresult.(replaced)\n\nANS- ",
      "metadata": {}
    },
    {
      "id": "cfb31cd8-55c2-4cdd-a075-aa75c852dc4c",
      "cell_type": "code",
      "source": "import random\n\n# Generating a list of 5 random numbers between 1 and 100\nrandom_numbers = [random.randint(1, 100) for _ in range(5)]\n\n# Sorting the list in ascending order\nrandom_numbers.sort()\n\n# Printing the sorted list\nprint(\"Sorted list of random numbers:\", random_numbers)",
      "metadata": {
        "trusted": true
      },
      "outputs": [
        {
          "name": "stdout",
          "output_type": "stream",
          "text": "Sorted list of random numbers: [23, 40, 54, 60, 66]\n"
        }
      ],
      "execution_count": 33
    },
    {
      "id": "3117eb63-77a8-47b6-b677-e7519c8b9262",
      "cell_type": "markdown",
      "source": "Q28. Write a code to create a list with strings and print the element at the third index.\n\nANS- ",
      "metadata": {}
    },
    {
      "id": "2985b25f-c27c-46cd-a8d1-74351f738add",
      "cell_type": "code",
      "source": "# Creating a list with strings\nstring_list = [\"apple\", \"banana\", \"cherry\", \"date\", \"elderberry\"]\n\n# Printing the element at the third index\nprint(\"Element at the third index:\", string_list[3])# Creating a list with strings\nstring_list = [\"apple\", \"banana\", \"cherry\", \"date\", \"elderberry\"]\n\n# Printing the element at the third index\nprint(\"Element at the third index:\", string_list[3])",
      "metadata": {
        "trusted": true
      },
      "outputs": [
        {
          "name": "stdout",
          "output_type": "stream",
          "text": "Element at the third index: date\nElement at the third index: date\n"
        }
      ],
      "execution_count": 34
    },
    {
      "id": "f9e1ba82-e39d-4940-ab24-d70a91e51685",
      "cell_type": "markdown",
      "source": "Q29. Write a code to combine two dictionaries into one and print the result\n\nANS- ",
      "metadata": {}
    },
    {
      "id": "fc572237-d323-4d0a-92d3-27f71cbe7da9",
      "cell_type": "code",
      "source": "# Creating two dictionaries\ndict1 = {\"a\": 1, \"b\": 2, \"c\": 3}\ndict2 = {\"d\": 4, \"e\": 5, \"f\": 6}\n\n# Combining the dictionaries\ncombined_dict = {**dict1, **dict2}\n\n# Printing the combined dictionary\nprint(\"Combined dictionary:\", combined_dict)",
      "metadata": {
        "trusted": true
      },
      "outputs": [
        {
          "name": "stdout",
          "output_type": "stream",
          "text": "Combined dictionary: {'a': 1, 'b': 2, 'c': 3, 'd': 4, 'e': 5, 'f': 6}\n"
        }
      ],
      "execution_count": 36
    },
    {
      "id": "9aeb54ce-bac0-4044-9244-f311477fd82c",
      "cell_type": "markdown",
      "source": "Q30.  Write a code to convert a list of strings into a set.\n\nANS- ",
      "metadata": {}
    },
    {
      "id": "9b00a6db-2bb7-4bec-bda6-6fbe0fd38801",
      "cell_type": "code",
      "source": "# Creating a list of strings\nstring_list = [\"apple\", \"banana\", \"cherry\", \"date\", \"apple\"]\n\n# Converting the list into a set\nstring_set = set(string_list)\n\n# Printing the resulting set\nprint(\"Set of strings:\", string_set)",
      "metadata": {
        "trusted": true
      },
      "outputs": [
        {
          "name": "stdout",
          "output_type": "stream",
          "text": "Set of strings: {'apple', 'date', 'cherry', 'banana'}\n"
        }
      ],
      "execution_count": 37
    },
    {
      "id": "6352497d-b17b-452a-b1ba-f2c7be816e32",
      "cell_type": "markdown",
      "source": "THANKYOU",
      "metadata": {}
    }
  ]
}